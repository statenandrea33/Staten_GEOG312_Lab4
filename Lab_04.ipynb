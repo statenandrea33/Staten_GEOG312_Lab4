{
  "cells": [
    {
      "cell_type": "markdown",
      "metadata": {
        "id": "view-in-github",
        "colab_type": "text"
      },
      "source": [
        "<a href=\"https://colab.research.google.com/github/statenandrea33/Staten_GEOG312_Lab4/blob/main/Lab_04.ipynb\" target=\"_parent\"><img src=\"https://colab.research.google.com/assets/colab-badge.svg\" alt=\"Open In Colab\"/></a>"
      ]
    },
    {
      "cell_type": "markdown",
      "metadata": {
        "id": "cNXstdSU1swd"
      },
      "source": [
        "[![image](https://colab.research.google.com/assets/colab-badge.svg)](https://colab.research.google.com/github/giswqs/geog-312/blob/master/labs/lab_04.ipynb)\n",
        "[![image](https://binder.pangeo.io/badge_logo.svg)](https://gishub.org/geog312-pangeo)\n",
        "\n",
        "**Andrea Staten**"
      ]
    },
    {
      "cell_type": "code",
      "execution_count": 1,
      "metadata": {
        "id": "Lnndlwdc1swf",
        "colab": {
          "base_uri": "https://localhost:8080/"
        },
        "outputId": "5c0778d7-807d-4cc5-f253-7a7e6ecd0857"
      },
      "outputs": [
        {
          "output_type": "stream",
          "name": "stdout",
          "text": [
            "Submitted time: 2023-09-25 01:24:31.606287\n"
          ]
        }
      ],
      "source": [
        "from datetime import datetime\n",
        "\n",
        "now = datetime.now()\n",
        "print(f\"Submitted time: {now}\")"
      ]
    },
    {
      "cell_type": "markdown",
      "metadata": {
        "id": "70eTD98_1swg"
      },
      "source": [
        "## Question 1\n",
        "**Alien Colors # 1:** Imagine an alien was just shot down in a game. Create a variable called `alien_color` and assign it a value of `green, yellow,` or `red`.\n",
        "\n",
        "* Write an if statement to test whether the alien’s color is green. If it is, print a message that the player just earned 5 points.\n",
        "* Write one version of this program that passes the if test and another that fails. (The version that fails will have no output.)"
      ]
    },
    {
      "cell_type": "code",
      "execution_count": 2,
      "metadata": {
        "id": "nlqYxv0e1swg",
        "colab": {
          "base_uri": "https://localhost:8080/"
        },
        "outputId": "92f382a2-a012-436f-b2aa-1e011d3ab8c7"
      },
      "outputs": [
        {
          "output_type": "stream",
          "name": "stdout",
          "text": [
            "You earned 5 points!\n"
          ]
        }
      ],
      "source": [
        "alien_color = 'green'\n",
        "\n",
        "if alien_color == 'green':\n",
        "    print(\"You earned 5 points!\")\n",
        "\n",
        "alien_color = 'red'\n",
        "\n",
        "if alien_color == 'green':\n",
        "    print(\"You earned 5 points!\")"
      ]
    },
    {
      "cell_type": "markdown",
      "metadata": {
        "id": "VjMVocp71swh"
      },
      "source": [
        "## Question 2\n",
        "**Alien Colors # 2:** Choose a color for an alien as you did in Question 1, and write an `if-else` chain.\n",
        "\n",
        "* If the alien’s color is green, print a statement that the player just earned 5 points for shooting the alien.\n",
        "* If the alien’s color isn’t green, print a statement that the player just earned 10 points.\n",
        "* Write one version of this program that runs the if block and another that runs the else block."
      ]
    },
    {
      "cell_type": "code",
      "execution_count": 3,
      "metadata": {
        "id": "Wv8mGhWo1swh",
        "colab": {
          "base_uri": "https://localhost:8080/"
        },
        "outputId": "2840d130-71fa-4a18-f303-48c4b0a2fa57"
      },
      "outputs": [
        {
          "output_type": "stream",
          "name": "stdout",
          "text": [
            "You just earned 5 points!\n"
          ]
        }
      ],
      "source": [
        "alien_color = 'green'\n",
        "\n",
        "if alien_color == 'green':\n",
        "    print(\"You just earned 5 points!\")\n",
        "else:\n",
        "    print(\"You just earned 10 points!\")"
      ]
    },
    {
      "cell_type": "code",
      "source": [
        "alien_color = 'yellow'\n",
        "\n",
        "if alien_color == 'green':\n",
        "    print(\"You just earned 5 points!\")\n",
        "else:\n",
        "    print(\"You just earned 10 points!\")"
      ],
      "metadata": {
        "colab": {
          "base_uri": "https://localhost:8080/"
        },
        "id": "c0SVQd_47xjV",
        "outputId": "f3dcd69d-6b4b-4646-c77d-9a7650b3c645"
      },
      "execution_count": 4,
      "outputs": [
        {
          "output_type": "stream",
          "name": "stdout",
          "text": [
            "You just earned 10 points!\n"
          ]
        }
      ]
    },
    {
      "cell_type": "markdown",
      "metadata": {
        "id": "rTIk32dk1swh"
      },
      "source": [
        "## Question 3\n",
        "**Alien Colors # 3:** Turn your `if-else` chain from Question 2 into an `if-elif-else` chain.\n",
        "\n",
        "* If the alien is green, print a message that the player earned 5 points.\n",
        "* If the alien is yellow, print a message that the player earned 10 points.\n",
        "* If the alien is red, print a message that the player earned 15 points.\n",
        "* Write three versions of this program, making sure each message is printed for the appropriate color alien."
      ]
    },
    {
      "cell_type": "code",
      "execution_count": 5,
      "metadata": {
        "id": "6_XrNq401swh",
        "colab": {
          "base_uri": "https://localhost:8080/"
        },
        "outputId": "0e977fb3-6768-4e17-e231-de06e085a9dc"
      },
      "outputs": [
        {
          "output_type": "stream",
          "name": "stdout",
          "text": [
            "You just earned 15 points!\n"
          ]
        }
      ],
      "source": [
        "alien_color = 'red'\n",
        "\n",
        "if alien_color == 'green':\n",
        "    print(\"You just earned 5 points!\")\n",
        "elif alien_color == 'yellow':\n",
        "    print(\"You just earned 10 points!\")\n",
        "else:\n",
        "    print(\"You just earned 15 points!\")"
      ]
    },
    {
      "cell_type": "code",
      "source": [
        "alien_color = 'green'\n",
        "\n",
        "if alien_color == 'green':\n",
        "    print(\"You just earned 5 points!\")\n",
        "elif alien_color == 'yellow':\n",
        "    print(\"You just earned 10 points!\")\n",
        "else:\n",
        "    print(\"You just earned 15 points!\")"
      ],
      "metadata": {
        "colab": {
          "base_uri": "https://localhost:8080/"
        },
        "id": "FnQSgNUx743h",
        "outputId": "bbb2358d-04d9-4e31-9fe8-48c734be0292"
      },
      "execution_count": 6,
      "outputs": [
        {
          "output_type": "stream",
          "name": "stdout",
          "text": [
            "You just earned 5 points!\n"
          ]
        }
      ]
    },
    {
      "cell_type": "code",
      "source": [
        "alien_color = 'yellow'\n",
        "\n",
        "if alien_color == 'green':\n",
        "    print(\"You just earned 5 points!\")\n",
        "elif alien_color == 'yellow':\n",
        "    print(\"You just earned 10 points!\")\n",
        "else:\n",
        "    print(\"You just earned 15 points!\")"
      ],
      "metadata": {
        "colab": {
          "base_uri": "https://localhost:8080/"
        },
        "id": "YCLXKerf78tB",
        "outputId": "1333ab07-9d0d-4ae5-8e7d-44d0ab02a121"
      },
      "execution_count": 7,
      "outputs": [
        {
          "output_type": "stream",
          "name": "stdout",
          "text": [
            "You just earned 10 points!\n"
          ]
        }
      ]
    },
    {
      "cell_type": "markdown",
      "metadata": {
        "id": "i_FzXU8C1swi"
      },
      "source": [
        "## Question 4\n",
        "**Stages of Life:** Write an `if-elif-else` chain that determines a person’s stage of life. Set a value for the variable `age`, and then:\n",
        "\n",
        "* If the person is less than 2 years old, print a message that the person is a baby.\n",
        "* If the person is at least 2 years old but less than 4, print a message that the person is a toddler.\n",
        "* If the person is at least 4 years old but less than 13, print a message that the person is a kid.\n",
        "* If the person is at least 13 years old but less than 20, print a message that the person is a teenager.\n",
        "* If the person is at least 20 years old but less than 65, print a message that the person is an adult."
      ]
    },
    {
      "cell_type": "code",
      "execution_count": 8,
      "metadata": {
        "id": "lpsbHDVP1swi",
        "colab": {
          "base_uri": "https://localhost:8080/"
        },
        "outputId": "2f4ae89d-7b06-44cb-e5f0-4dd02c7cd7b9"
      },
      "outputs": [
        {
          "output_type": "stream",
          "name": "stdout",
          "text": [
            "At this age you are kid.\n"
          ]
        }
      ],
      "source": [
        "age = 7\n",
        "\n",
        "if age < 2:\n",
        "    print(\"At this age you are a baby.\")\n",
        "elif age < 4:\n",
        "    print(\"At this age you are a toddler.\")\n",
        "elif age < 13:\n",
        "    print(\"At this age you are kid.\")\n",
        "elif age < 20:\n",
        "    print(\"At this age you are a teenager.\")\n",
        "elif age < 65:\n",
        "    print(\"At this age you are an adult.\")\n",
        "else:\n",
        "    print(\"At this age you are a senior citizen.\")"
      ]
    },
    {
      "cell_type": "markdown",
      "metadata": {
        "id": "UCoaUP6c1swi"
      },
      "source": [
        "## Question 5\n",
        "**Favorite Fruit:** Make a list of your favorite fruits, and then write a series of independent `if` statements that check for certain fruits in your list.\n",
        "\n",
        "* Make a list of your three favorite fruits and call it favorite_fruits.\n",
        "* Write five if statements. Each should check whether a certain kind of fruit is in your list. If the fruit is in your list, the if block should print a statement, such as You really like bananas!"
      ]
    },
    {
      "cell_type": "code",
      "execution_count": 9,
      "metadata": {
        "id": "o5VF8gbr1swi",
        "colab": {
          "base_uri": "https://localhost:8080/"
        },
        "outputId": "1f1d62b2-d06a-4dbc-d417-4e4f8666cf38"
      },
      "outputs": [
        {
          "output_type": "stream",
          "name": "stdout",
          "text": [
            "I love strawberries!\n",
            "I love mangos!\n",
            "I love bananas!\n"
          ]
        }
      ],
      "source": [
        "favorite_fruits = ['strawberries', 'bananas', 'mangos']\n",
        "\n",
        "if 'strawberries' in favorite_fruits:\n",
        "    print(\"I love strawberries!\")\n",
        "if 'pineapples' in favorite_fruits:\n",
        "    print(\"I love pineapples!\")\n",
        "if 'mangos' in favorite_fruits:\n",
        "    print(\"I love mangos!\")\n",
        "if 'apples' in favorite_fruits:\n",
        "    print(\"I love apples!\")\n",
        "if 'bananas' in favorite_fruits:\n",
        "    print(\"I love bananas!\")"
      ]
    },
    {
      "cell_type": "markdown",
      "metadata": {
        "id": "ZFtoeUx41swj"
      },
      "source": [
        "## Question 6\n",
        "**Hello Admin:** Make a list of five or more usernames, including the name `admin`. Imagine you are writing code that will print a greeting to each user after they log in to a website. Loop through the list, and print a greeting to each user:\n",
        "\n",
        "* If the username is 'admin', print a special greeting, such as *Hello admin, would you like to see a status report?*\n",
        "* Otherwise, print a generic greeting, such as *Hello Jaden, thank you for logging in again*."
      ]
    },
    {
      "cell_type": "code",
      "execution_count": 10,
      "metadata": {
        "id": "9jCztQ9O1swj",
        "colab": {
          "base_uri": "https://localhost:8080/"
        },
        "outputId": "f9661537-44d4-4431-ce38-87e075ad8fb9"
      },
      "outputs": [
        {
          "output_type": "stream",
          "name": "stdout",
          "text": [
            "Hello admin, would you like to see a status report?\n",
            "Hello Andrea, nice to see you logging in again!\n",
            "Hello Maxwell, nice to see you logging in again!\n",
            "Hello Double7, nice to see you logging in again!\n",
            "Hello Coffee Lover, nice to see you logging in again!\n"
          ]
        }
      ],
      "source": [
        "user_names = ['admin','andrea','maxwell','double7','coffee lover']\n",
        "\n",
        "\n",
        "for user in user_names:\n",
        "    if user == 'admin':\n",
        "        print(\"Hello admin, would you like to see a status report?\")\n",
        "    else:\n",
        "        message = f\"Hello {user.title()}, nice to see you logging in again!\"\n",
        "        print(message)"
      ]
    },
    {
      "cell_type": "markdown",
      "metadata": {
        "id": "0IhmLoDI1swj"
      },
      "source": [
        "## Question 7\n",
        "**No Users:** Based on Question 6, add an `if` test to make sure the list of users is not empty.\n",
        "\n",
        "* If the list is empty, print the message *We need to find some users!*\n",
        "* Remove all of the usernames from your list, and make sure the correct message is printed."
      ]
    },
    {
      "cell_type": "code",
      "execution_count": 11,
      "metadata": {
        "id": "HIw6iAzF1swj",
        "colab": {
          "base_uri": "https://localhost:8080/"
        },
        "outputId": "5e93d92e-37f4-450b-805b-6ab81cba3355"
      },
      "outputs": [
        {
          "output_type": "stream",
          "name": "stdout",
          "text": [
            "We need to find some users!\n"
          ]
        }
      ],
      "source": [
        "user_names = []\n",
        "\n",
        "\n",
        "for user in user_names:\n",
        "    if user == 'admin':\n",
        "        print(\"Hello admin, would you like to see a status report?\")\n",
        "    else:\n",
        "        message = f\"Hello {user.title()}, nice to see you logging in again!\"\n",
        "        print(message)\n",
        "else:\n",
        "    print(\"We need to find some users!\")"
      ]
    },
    {
      "cell_type": "markdown",
      "metadata": {
        "id": "6YXQFPZU1swj"
      },
      "source": [
        "## Question 8\n",
        "**Checking Usernames:** Do the following to create a program that simulates how websites ensure that everyone has a unique username.\n",
        "\n",
        "* Make a list of five or more usernames called `current_users`.\n",
        "*  Make another list of five usernames called `new_users`. Make sure one or two of the new usernames are also in the `current_users` list.\n",
        "* Loop through the `new_users` list to see if each new username has already been used. If it has, print a message that the person will need to enter a new username. If a username has not been used, print a message saying that the username is available.\n",
        "* Make sure your comparison is case insensitive. If 'John' has been used, 'JOHN' should not be accepted. (To do this, you’ll need to make a copy of `current_users` containing the lowercase versions of all existing users.)"
      ]
    },
    {
      "cell_type": "code",
      "execution_count": 12,
      "metadata": {
        "id": "Vs2bRObJ1swj",
        "colab": {
          "base_uri": "https://localhost:8080/"
        },
        "outputId": "b3c58103-89f8-4a75-9e99-67c9d3f3316f"
      },
      "outputs": [
        {
          "output_type": "stream",
          "name": "stdout",
          "text": [
            "This username is available.\n",
            "This username is available.\n",
            "This username is available.\n",
            "This username is taken, please choose another one.\n",
            "This username is taken, please choose another one.\n"
          ]
        }
      ],
      "source": [
        "current_users = ['andrea', 'max', 'coffee', 'double7', 'laughing']\n",
        "new_users = ['marcum', 'staten', 'espresso','DOUBLE7', 'Andrea']\n",
        "\n",
        "current_users_upper = [user.upper() for user in current_users]\n",
        "\n",
        "for new_user in new_users:\n",
        "    if new_user.upper() in current_users_upper:\n",
        "        print(\"This username is taken, please choose another one.\")\n",
        "    else:\n",
        "        print(\"This username is available.\")\n",
        ""
      ]
    },
    {
      "cell_type": "markdown",
      "metadata": {
        "id": "3DNiYivS1swj"
      },
      "source": [
        "## Question 9\n",
        "**Ordinal Numbers:** Ordinal numbers indicate their position in a list, such as *1st* or *2nd*. Most ordinal numbers end in *th*, except 1, 2, and 3.\n",
        "\n",
        "* Store the numbers 1 through 9 in a list.\n",
        "* Loop through the list.\n",
        "* Use an `if-elif-else` chain inside the loop to print the proper ordinal ending for each number. Your output should read \"1st 2nd 3rd 4th 5th 6th 7th 8th 9th\", and each result should be on a separate line."
      ]
    },
    {
      "cell_type": "code",
      "execution_count": 13,
      "metadata": {
        "id": "l9oKLfqf1swj",
        "colab": {
          "base_uri": "https://localhost:8080/"
        },
        "outputId": "8465e40e-03c3-4ccf-e3dd-f1ca9106d36a"
      },
      "outputs": [
        {
          "output_type": "stream",
          "name": "stdout",
          "text": [
            "1st\n",
            "2nd\n",
            "3rd\n",
            "4th\n",
            "5th\n",
            "6th\n",
            "7th\n",
            "8th\n",
            "9th\n"
          ]
        }
      ],
      "source": [
        "numbers = list(range(1,10))\n",
        "\n",
        "for number in numbers:\n",
        "    if number == 1:\n",
        "        print(str(number) +'st')\n",
        "    elif number == 2:\n",
        "        print(str(number) + 'nd')\n",
        "    elif number == 3:\n",
        "        print(str(number) + 'rd')\n",
        "    else:\n",
        "        print(str(number) + 'th')\n",
        ""
      ]
    }
  ],
  "metadata": {
    "kernelspec": {
      "display_name": "Python 3 (ipykernel)",
      "language": "python",
      "name": "python3"
    },
    "language_info": {
      "codemirror_mode": {
        "name": "ipython",
        "version": 3
      },
      "file_extension": ".py",
      "mimetype": "text/x-python",
      "name": "python",
      "nbconvert_exporter": "python",
      "pygments_lexer": "ipython3",
      "version": "3.8.10"
    },
    "colab": {
      "provenance": [],
      "include_colab_link": true
    }
  },
  "nbformat": 4,
  "nbformat_minor": 0
}